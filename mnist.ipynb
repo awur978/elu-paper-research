{
 "cells": [
  {
   "cell_type": "markdown",
   "metadata": {},
   "source": [
    "## MNIST"
   ]
  },
  {
   "cell_type": "code",
   "execution_count": null,
   "metadata": {},
   "outputs": [],
   "source": [
    "import tensorflow.keras as keras"
   ]
  },
  {
   "cell_type": "code",
   "execution_count": null,
   "metadata": {},
   "outputs": [],
   "source": [
    "(x_train, y_train), (x_test, y_test) = keras.datasets.mnist.load_data()"
   ]
  },
  {
   "cell_type": "markdown",
   "metadata": {},
   "source": [
    "## fully connected network"
   ]
  },
  {
   "cell_type": "code",
   "execution_count": null,
   "metadata": {},
   "outputs": [],
   "source": [
    "x_train = x_train.reshape(x_train.shape[0], 28*28)\n",
    "x_test = x_test.reshape(x_test.shape[0], 28*28)"
   ]
  },
  {
   "cell_type": "code",
   "execution_count": null,
   "metadata": {},
   "outputs": [],
   "source": [
    "from tensorflow.keras.utils import to_categorical"
   ]
  },
  {
   "cell_type": "code",
   "execution_count": null,
   "metadata": {},
   "outputs": [],
   "source": [
    "y_train = to_categorical(y_train)\n",
    "y_test = to_categorical(y_test)"
   ]
  },
  {
   "cell_type": "code",
   "execution_count": null,
   "metadata": {},
   "outputs": [],
   "source": [
    "from tensorflow.keras import Sequential\n",
    "from tensorflow.keras.layers import Dense, Activation\n",
    "from tensorflow.keras.optimizers import SGD"
   ]
  },
  {
   "cell_type": "code",
   "execution_count": null,
   "metadata": {},
   "outputs": [],
   "source": [
    "phases = ['relu', 'relu', 'relu', 'relu', 'relu',\n",
    "          'elu', 'elu', 'elu', 'elu', 'elu',\n",
    "          'tanh', 'tanh', 'tanh', 'tanh', 'tanh']\n",
    "results = dict()"
   ]
  },
  {
   "cell_type": "code",
   "execution_count": null,
   "metadata": {
    "scrolled": true
   },
   "outputs": [],
   "source": [
    "for k, phase in enumerate(phases):\n",
    "    print(k, phase)\n",
    "    model = Sequential()\n",
    "    model.add(Dense(128, input_shape=x_train.shape[1:]))\n",
    "    model.add(Activation(phase))\n",
    "    model.add(Dense(128))\n",
    "    model.add(Activation(phase))\n",
    "    model.add(Dense(128))\n",
    "    model.add(Activation(phase))\n",
    "    model.add(Dense(128))\n",
    "    model.add(Activation(phase))\n",
    "    model.add(Dense(128))\n",
    "    model.add(Activation(phase))\n",
    "    model.add(Dense(128))\n",
    "    model.add(Activation(phase))\n",
    "    model.add(Dense(128))\n",
    "    model.add(Activation(phase))\n",
    "    model.add(Dense(128))\n",
    "    model.add(Activation(phase))\n",
    "    model.add(Dense(10))\n",
    "    model.add(Activation('sigmoid'))\n",
    "\n",
    "    model.compile(SGD(lr=0.01), loss='categorical_crossentropy', metrics=['accuracy'])\n",
    "\n",
    "    hist = model.fit(x=x_train, y=y_train, batch_size=64, validation_data=[x_test, y_test], epochs=30, verbose=0)\n",
    "    results[k] = hist.history"
   ]
  },
  {
   "cell_type": "code",
   "execution_count": null,
   "metadata": {},
   "outputs": [],
   "source": [
    "import pandas as pd\n",
    "import numpy as np"
   ]
  },
  {
   "cell_type": "code",
   "execution_count": null,
   "metadata": {
    "scrolled": true
   },
   "outputs": [],
   "source": [
    "pd.to_pickle(results, 'relu_vs_elu_results.pickle')"
   ]
  },
  {
   "cell_type": "code",
   "execution_count": null,
   "metadata": {},
   "outputs": [],
   "source": [
    "import matplotlib.pyplot as plt"
   ]
  },
  {
   "cell_type": "code",
   "execution_count": null,
   "metadata": {},
   "outputs": [],
   "source": [
    "measure = 'val_loss'\n",
    "plt.plot((np.array(results[0][measure]) \n",
    "         + np.array(results[1][measure]) \n",
    "         + np.array(results[2][measure]) \n",
    "         + np.array(results[3][measure]) \n",
    "         + np.array(results[4][measure]))/5)\n",
    "plt.plot((np.array(results[5][measure]) \n",
    "         + np.array(results[6][measure]) \n",
    "         + np.array(results[7][measure]) \n",
    "         + np.array(results[8][measure]) \n",
    "         + np.array(results[9][measure]))/5)\n",
    "plt.legend(['relu', 'elu'])\n",
    "plt.show()"
   ]
  },
  {
   "cell_type": "markdown",
   "metadata": {},
   "source": [
    "## simple convolutional network"
   ]
  },
  {
   "cell_type": "code",
   "execution_count": null,
   "metadata": {},
   "outputs": [],
   "source": [
    "x_train = x_train.reshape(x_train.shape[0], 28, 28, 1).astype('float32')\n",
    "x_train /= 255\n",
    "x_test = x_test.reshape(x_test.shape[0], 28, 28, 1).astype('float32')\n",
    "x_test /= 255\n",
    "input_shape = (28, 28, 1)"
   ]
  },
  {
   "cell_type": "code",
   "execution_count": null,
   "metadata": {},
   "outputs": [],
   "source": [
    "from tensorflow.keras import Sequential\n",
    "from tensorflow.keras.layers import Conv2D, MaxPooling2D, Dropout, Flatten, Dense, Activation\n",
    "from tensorflow.keras.optimizers import SGD"
   ]
  },
  {
   "cell_type": "code",
   "execution_count": null,
   "metadata": {},
   "outputs": [],
   "source": [
    "model = Sequential()\n",
    "model.add(Conv2D(32, kernel_size=(3, 3),\n",
    "                 input_shape=input_shape))\n",
    "model.add(Activation(my_activation))\n",
    "model.add(Conv2D(64, (3, 3)))\n",
    "model.add(Activation(my_activation))\n",
    "model.add(MaxPooling2D(pool_size=(2, 2)))\n",
    "model.add(Conv2D(64, (3, 3)))\n",
    "model.add(Activation(my_activation))\n",
    "model.add(MaxPooling2D(pool_size=(2, 2)))\n",
    "model.add(Conv2D(64, (3, 3)))\n",
    "model.add(Activation(my_activation))\n",
    "model.add(MaxPooling2D(pool_size=(2, 2)))\n",
    "model.add(Dropout(0.25))\n",
    "model.add(Flatten())\n",
    "model.add(Dense(128))\n",
    "model.add(Activation(my_activation))\n",
    "model.add(Dropout(0.5))\n",
    "model.add(Dense(10))\n",
    "model.add(Activation('sigmoid'))"
   ]
  },
  {
   "cell_type": "code",
   "execution_count": null,
   "metadata": {},
   "outputs": [],
   "source": [
    "model.compile(SGD(lr=0.001), loss='categorical_crossentropy', metrics=['accuracy'])"
   ]
  },
  {
   "cell_type": "code",
   "execution_count": null,
   "metadata": {},
   "outputs": [],
   "source": [
    "model.fit(x=x_train,\n",
    "          y=keras.utils.to_categorical(y_train),\n",
    "          validation_data=(x_test, keras.utils.to_categorical(y_test)), batch_size=50, epochs=10)"
   ]
  },
  {
   "cell_type": "markdown",
   "metadata": {},
   "source": [
    "## custom activation function"
   ]
  },
  {
   "cell_type": "code",
   "execution_count": null,
   "metadata": {},
   "outputs": [],
   "source": [
    "import tensorflow as tf"
   ]
  },
  {
   "cell_type": "code",
   "execution_count": null,
   "metadata": {},
   "outputs": [],
   "source": [
    "def my_activation(x):\n",
    "    return tf.where(x > 0.0,\n",
    "                    tf.log(tf.maximum(x, 0.0) + 1.0),\n",
    "                    -tf.log(-tf.minimum(x, 0.0) + 1.0))"
   ]
  },
  {
   "cell_type": "code",
   "execution_count": null,
   "metadata": {},
   "outputs": [],
   "source": [
    "x_train = x_train.reshape(x_train.shape[0], 28*28)\n",
    "x_test = x_test.reshape(x_test.shape[0], 28*28)"
   ]
  },
  {
   "cell_type": "code",
   "execution_count": null,
   "metadata": {},
   "outputs": [],
   "source": [
    "from tensorflow.keras.utils import to_categorical"
   ]
  },
  {
   "cell_type": "code",
   "execution_count": null,
   "metadata": {},
   "outputs": [],
   "source": [
    "y_train = to_categorical(y_train)\n",
    "y_test = to_categorical(y_test)"
   ]
  },
  {
   "cell_type": "code",
   "execution_count": null,
   "metadata": {},
   "outputs": [],
   "source": [
    "from tensorflow.keras.callbacks import TensorBoard"
   ]
  },
  {
   "cell_type": "code",
   "execution_count": null,
   "metadata": {},
   "outputs": [],
   "source": [
    "import datetime\n",
    "#NAME = 'cifar10-8blocks-elu-lr-schedule-l2-regulizer-horizontal-flipping-{}'.format(datetime.datetime.now())\n",
    "NAME = 'mnist-my-activation-{}'.format(datetime.datetime.now())\n",
    "tensorboard = TensorBoard(log_dir='./logs/{}'.format(NAME),\n",
    "                          #histogram_freq=1,\n",
    "                          #write_graph=True,\n",
    "                          #write_grads=True,\n",
    "                          #write_images=True,\n",
    "                         )"
   ]
  },
  {
   "cell_type": "code",
   "execution_count": null,
   "metadata": {},
   "outputs": [],
   "source": [
    "from tensorflow.keras import Sequential\n",
    "from tensorflow.keras.layers import Dense, Activation\n",
    "from tensorflow.keras.optimizers import SGD\n",
    "from tensorflow.keras.regularizers import l2"
   ]
  },
  {
   "cell_type": "code",
   "execution_count": null,
   "metadata": {
    "scrolled": true
   },
   "outputs": [],
   "source": [
    "model = Sequential()\n",
    "model.add(Dense(128, input_shape=x_train.shape[1:]))\n",
    "model.add(Activation(my_activation))\n",
    "model.add(Dense(128))\n",
    "model.add(Activation(my_activation))\n",
    "model.add(Dense(128))\n",
    "model.add(Activation(my_activation))\n",
    "model.add(Dense(128))\n",
    "model.add(Activation(my_activation))\n",
    "model.add(Dense(128))\n",
    "model.add(Activation(my_activation))\n",
    "model.add(Dense(128))\n",
    "model.add(Activation(my_activation))\n",
    "model.add(Dense(128))\n",
    "model.add(Activation(my_activation))\n",
    "model.add(Dense(128))\n",
    "model.add(Activation(my_activation))\n",
    "model.add(Dense(10))\n",
    "model.add(Activation('sigmoid'))\n",
    "\n",
    "model.compile(SGD(lr=0.01), loss='categorical_crossentropy', metrics=['accuracy'])\n",
    "\n",
    "hist = model.fit(x=x_train, y=y_train,\n",
    "                 batch_size=64,\n",
    "                 validation_data=[x_test, y_test],\n",
    "                 callbacks=[tensorboard],\n",
    "                 epochs=5)"
   ]
  },
  {
   "cell_type": "code",
   "execution_count": null,
   "metadata": {},
   "outputs": [],
   "source": []
  }
 ],
 "metadata": {
  "kernelspec": {
   "display_name": "Python 3",
   "language": "python",
   "name": "python3"
  },
  "language_info": {
   "codemirror_mode": {
    "name": "ipython",
    "version": 3
   },
   "file_extension": ".py",
   "mimetype": "text/x-python",
   "name": "python",
   "nbconvert_exporter": "python",
   "pygments_lexer": "ipython3",
   "version": "3.6.5"
  }
 },
 "nbformat": 4,
 "nbformat_minor": 2
}
